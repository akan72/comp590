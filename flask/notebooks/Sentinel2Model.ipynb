{
  "nbformat": 4,
  "nbformat_minor": 0,
  "metadata": {
    "colab": {
      "name": "Sentinel2Model.ipynb",
      "provenance": [],
      "collapsed_sections": [],
      "include_colab_link": true
    },
    "kernelspec": {
      "name": "python3",
      "display_name": "Python 3"
    },
    "accelerator": "GPU"
  },
  "cells": [
    {
      "cell_type": "markdown",
      "metadata": {
        "id": "view-in-github",
        "colab_type": "text"
      },
      "source": [
        "<a href=\"https://colab.research.google.com/github/akan72/comp590/blob/master/flask/src/models/Sentinel2Model.ipynb\" target=\"_parent\"><img src=\"https://colab.research.google.com/assets/colab-badge.svg\" alt=\"Open In Colab\"/></a>"
      ]
    },
    {
      "cell_type": "code",
      "metadata": {
        "id": "65RChERMzQHZ",
        "colab_type": "code",
        "outputId": "f329f772-f5fc-472f-e8bc-42f55df361f2",
        "colab": {
          "base_uri": "https://localhost:8080/",
          "height": 178
        }
      },
      "source": [
        "import ee\n",
        "import pickle\n",
        "\n",
        "ee.Authenticate()\n",
        "ee.Initialize()"
      ],
      "execution_count": 1,
      "outputs": [
        {
          "output_type": "stream",
          "text": [
            "To authorize access needed by Earth Engine, open the following URL in a web browser and follow the instructions. If the web browser does not start automatically, please manually browse the URL below.\n",
            "\n",
            "    https://accounts.google.com/o/oauth2/auth?client_id=517222506229-vsmmajv00ul0bs7p89v5m89qs8eb9359.apps.googleusercontent.com&scope=https%3A%2F%2Fwww.googleapis.com%2Fauth%2Fearthengine+https%3A%2F%2Fwww.googleapis.com%2Fauth%2Fdevstorage.full_control&redirect_uri=urn%3Aietf%3Awg%3Aoauth%3A2.0%3Aoob&response_type=code\n",
            "\n",
            "The authorization workflow will generate a code, which you should paste in the box below. \n",
            "Enter verification code: 4/xAEQsh3YHrWHrtylojJOp65R8jDZY4aQJbZgBae6Crvhkz9mObohDVs\n",
            "\n",
            "Successfully saved authorization token.\n"
          ],
          "name": "stdout"
        }
      ]
    },
    {
      "cell_type": "code",
      "metadata": {
        "id": "v7pD6pDOAhOW",
        "colab_type": "code",
        "colab": {}
      },
      "source": [
        "image = ee.Image('users/danielhirst1998/liveEO/rasterize_on_sentinel_2_labelled_17SLD')\n",
        "imageCollection = ee.ImageCollection('users/danielhirst1998/liveEO/s2-images')\n",
        "\n",
        "image = image.select('b1')\n",
        "image = image.set('class',{ 0: 'urban', 1: 'treerow', 2: 'forest', 3: 'single tree', 4: 'agriculture', 5: 'grassland',6: 'water', 4294967295: 'nodata',});\n",
        "image = image.updateMask(image.neq(4294967295))"
      ],
      "execution_count": 0,
      "outputs": []
    },
    {
      "cell_type": "code",
      "metadata": {
        "id": "wb5ga3ZxSA2r",
        "colab_type": "code",
        "colab": {}
      },
      "source": [
        "# create a palette/legend so we can easily see the labels on the map\n",
        "palette = [\n",
        "  'FF0000', # urban // red\n",
        "  '00FF00', # treerow // green\n",
        "  '0000FF', # forest //blue\n",
        "  'FFFF00', # single tree //yellow\n",
        "  'FF00FF', # agriculture //magenta\n",
        "  '00FFFF', # grassland // cyan\n",
        "  'FFFFFF', # water //white\n",
        "];\n",
        "\n",
        "model_input = imageCollection.toBands()\n",
        "\n",
        "#Change names of bands to be more understandable\n",
        "model_input = model_input.select(\n",
        "   ['T17SLD_20190922T203454_AOT_10m_b1',\n",
        "    'T17SLD_20190922T203454_B01_60m_b1',\n",
        "    'T17SLD_20190922T203454_B02_10m_b1',\n",
        "    'T17SLD_20190922T203454_B03_10m_b1',\n",
        "    'T17SLD_20190922T203454_B04_10m_b1',\n",
        "    'T17SLD_20190922T203454_B05_20m_b1',\n",
        "    'T17SLD_20190922T203454_B06_20m_b1',\n",
        "    'T17SLD_20190922T203454_B07_20m_b1',\n",
        "    'T17SLD_20190922T203454_B08_10m_b1',\n",
        "    'T17SLD_20190922T203454_B09_60m_b1',\n",
        "    'T17SLD_20190922T203454_B11_20m_b1',\n",
        "    'T17SLD_20190922T203454_B12_20m_b1',\n",
        "    'T17SLD_20190922T203454_B8A_20m_b1',\n",
        "    'T17SLD_20190922T203454_SCL_20m_b1',\n",
        "    'T17SLD_20190922T203454_WVP_10m_b1'],\n",
        "    ['AOT','B01','B02','B03','B04','B05','B06','B07','B08','B09','B11','B12','B8A','SCL','WVP'] \n",
        ");\n",
        "\n",
        "#Combine the unlabelled images with the labels from the labelled image\n",
        "model_input = model_input.addBands(image.select([\"b1\"],[\"label\"]))"
      ],
      "execution_count": 0,
      "outputs": []
    },
    {
      "cell_type": "code",
      "metadata": {
        "id": "VqRAn9B1SBKF",
        "colab_type": "code",
        "colab": {}
      },
      "source": [
        "#//---------------------Supervised Classification--------------------------//\n",
        "\n",
        "# Use these bands for prediction.\n",
        "# All bands used to have most data possible, doing a combination of bands could help to increase accuracy in the future \n",
        "bands =  ['AOT','B01','B02','B03','B04','B05','B06','B07','B08','B09','B11','B12','B8A','SCL','WVP','label'] ;\n",
        "\n",
        "#//Set scale and numPoint parameters so we can quickly change them for both the training and validation model\n",
        "scale = 10; #// highest resolution of the s2 bands is 10m, so scale=10 preserves all data for all bands\n",
        "numPoints = 100000\n",
        "\n",
        "#Sample the input imagery using a stratified sample\n",
        "training = model_input.select(bands).stratifiedSample(\n",
        "    classBand='label',\n",
        "    scale=scale,\n",
        "    numPoints=numPoints,\n",
        "    seed=0,\n",
        "    region=model_input.geometry());\n",
        "\n",
        "# Train classifier\n",
        "classifier = ee.Classifier.cart().train(\n",
        "    features=training,\n",
        "    classProperty='label',\n",
        "    inputProperties=bands);\n",
        "\n",
        "# .pkl model results\n",
        "pickle.dump(classifier, open('models/s2-classifier.pkl','wb'))"
      ],
      "execution_count": 0,
      "outputs": []
    },
    {
      "cell_type": "code",
      "metadata": {
        "id": "jPY4PFzcWCdV",
        "colab_type": "code",
        "outputId": "ae5ef34f-e90d-4c4e-8bde-985b9095b3e8",
        "colab": {
          "base_uri": "https://localhost:8080/",
          "height": 72
        }
      },
      "source": [
        "#Classify the image with the same bands used for training.\n",
        "classified = model_input.select(bands).classify(classifier);\n",
        "\n",
        "# Get a confusion matrix representing resubstitution accuracy.\n",
        "trainAccuracy = classifier.confusionMatrix()\n",
        "\n",
        "print('Resubstitution error matrix: '+ str(trainAccuracy.getInfo()))\n",
        "print('Training Accuracy: ' + str(trainAccuracy.accuracy().getInfo()))"
      ],
      "execution_count": 13,
      "outputs": [
        {
          "output_type": "stream",
          "text": [
            "Resubstitution error matrix: [[18616, 8, 24, 0, 188, 16, 236], [1, 4020, 2029, 0, 997, 134, 7], [21, 561, 98183, 0, 935, 294, 6], [11, 34, 15, 7, 82, 17, 0], [30, 65, 87, 0, 93250, 394, 53], [2, 46, 435, 0, 3777, 3302, 4], [316, 5, 5, 0, 52, 10, 45099]]\n",
            "Training Accuracy: 0.9601388573895103\n"
          ],
          "name": "stdout"
        }
      ]
    },
    {
      "cell_type": "code",
      "metadata": {
        "id": "bc0A8zdT8nVH",
        "colab_type": "code",
        "outputId": "57f858a3-74b5-4ba7-c09b-e31034e20240",
        "colab": {
          "base_uri": "https://localhost:8080/",
          "height": 72
        }
      },
      "source": [
        "# Sample the input with a different seed so we can compare the classifier and validate the model.\n",
        "validation = model_input.select(bands).stratifiedSample(\n",
        "    classBand='label',\n",
        "    scale=scale,\n",
        "    numPoints=numPoints,\n",
        "    seed=1,\n",
        "    region=model_input.geometry())\n",
        "\n",
        "#Classify the validation data.\n",
        "validated = validation.classify(classifier)\n",
        "\n",
        "#// Get a confusion matrix representing expected accuracy.\n",
        "testAccuracy = validated.errorMatrix('label', 'classification')\n",
        "\n",
        "print('Validation error matrix: ', testAccuracy.getInfo())\n",
        "print('Validation overall accuracy: ', testAccuracy.accuracy().getInfo())"
      ],
      "execution_count": 0,
      "outputs": [
        {
          "output_type": "stream",
          "text": [
            "Validation error matrix:  [[18616, 8, 24, 0, 188, 16, 236], [1, 4020, 2029, 0, 997, 134, 7], [16, 588, 98115, 0, 981, 291, 9], [11, 34, 15, 7, 82, 17, 0], [30, 65, 87, 0, 93250, 394, 53], [2, 46, 435, 0, 3777, 3302, 4], [316, 5, 5, 0, 52, 10, 45099]]\n",
            "Validation overall accuracy:  0.9598901139098817\n"
          ],
          "name": "stdout"
        }
      ]
    },
    {
      "cell_type": "code",
      "metadata": {
        "id": "vlzznusW7KCc",
        "colab_type": "code",
        "colab": {}
      },
      "source": [
        ""
      ],
      "execution_count": 0,
      "outputs": []
    }
  ]
}
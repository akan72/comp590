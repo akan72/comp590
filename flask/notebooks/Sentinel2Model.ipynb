{
  "nbformat": 4,
  "nbformat_minor": 0,
  "metadata": {
    "colab": {
      "name": "Sentinel2Model.ipynb",
      "provenance": [],
      "collapsed_sections": [],
      "include_colab_link": true
    },
    "kernelspec": {
      "name": "python3",
      "display_name": "Python 3"
    },
    "accelerator": "GPU"
  },
  "cells": [
    {
      "cell_type": "markdown",
      "metadata": {
        "id": "view-in-github",
        "colab_type": "text"
      },
      "source": [
        "<a href=\"https://colab.research.google.com/github/akan72/comp590/blob/master/flask/notebooks/Sentinel2Model.ipynb\" target=\"_parent\"><img src=\"https://colab.research.google.com/assets/colab-badge.svg\" alt=\"Open In Colab\"/></a>"
      ]
    },
    {
      "cell_type": "code",
      "metadata": {
        "id": "65RChERMzQHZ",
        "colab_type": "code",
        "outputId": "fa0ff791-f521-4f83-91d0-b71c60f0424d",
        "colab": {
          "base_uri": "https://localhost:8080/",
          "height": 178
        }
      },
      "source": [
        "import ee\n",
        "import pickle\n",
        "\n",
        "ee.Authenticate()\n",
        "ee.Initialize()"
      ],
      "execution_count": 1,
      "outputs": [
        {
          "output_type": "stream",
          "text": [
            "To authorize access needed by Earth Engine, open the following URL in a web browser and follow the instructions. If the web browser does not start automatically, please manually browse the URL below.\n",
            "\n",
            "    https://accounts.google.com/o/oauth2/auth?client_id=517222506229-vsmmajv00ul0bs7p89v5m89qs8eb9359.apps.googleusercontent.com&scope=https%3A%2F%2Fwww.googleapis.com%2Fauth%2Fearthengine+https%3A%2F%2Fwww.googleapis.com%2Fauth%2Fdevstorage.full_control&redirect_uri=urn%3Aietf%3Awg%3Aoauth%3A2.0%3Aoob&response_type=code\n",
            "\n",
            "The authorization workflow will generate a code, which you should paste in the box below. \n",
            "Enter verification code: 4/xAHjWTfqYu92spjPsJCbWYhmj_q54OSz9sECjeglxq1ARd2XT_1Q2bY\n",
            "\n",
            "Successfully saved authorization token.\n"
          ],
          "name": "stdout"
        }
      ]
    },
    {
      "cell_type": "code",
      "metadata": {
        "id": "ZToWYMe6ORQw",
        "colab_type": "code",
        "colab": {}
      },
      "source": [
        "import folium\n",
        "import matplotlib.pyplot as plt\n",
        "from IPython.display import Image\n",
        "\n",
        "# Folium Utilities \n",
        "# Define a method for displaying Earth Engine image tiles to folium map.\n",
        "def add_ee_layer(self, ee_image_object, vis_params, name):\n",
        "  map_id_dict = ee.Image(ee_image_object).getMapId(vis_params)\n",
        "  folium.raster_layers.TileLayer(\n",
        "    tiles = map_id_dict['tile_fetcher'].url_format,\n",
        "    attr = \"Map Data © Google Earth Engine\",\n",
        "    name = name,\n",
        "    overlay = True,\n",
        "    control = True\n",
        "  ).add_to(self)\n",
        "\n",
        "# Add Earth Engine drawing method to folium.\n",
        "folium.Map.add_ee_layer = add_ee_layer"
      ],
      "execution_count": 0,
      "outputs": []
    },
    {
      "cell_type": "code",
      "metadata": {
        "id": "v7pD6pDOAhOW",
        "colab_type": "code",
        "colab": {
          "base_uri": "https://localhost:8080/",
          "height": 222
        },
        "outputId": "5bb69a16-16d5-4033-808c-51a227b85c84"
      },
      "source": [
        "image = ee.Image('users/danielhirst1998/liveEO/rasterize_on_sentinel_2_labelled_17SLD')\n",
        "imageCollection = ee.ImageCollection('users/danielhirst1998/liveEO/s2-images')\n",
        "\n",
        "image = image.select('b1')\n",
        "image = image.set('class',{ 0: 'urban', 1: 'treerow', 2: 'forest', 3: 'single tree', 4: 'agriculture', 5: 'grassland',6: 'water', 4294967295: 'nodata',});\n",
        "image = image.updateMask(image.neq(4294967295))"
      ],
      "execution_count": 5,
      "outputs": [
        {
          "output_type": "error",
          "ename": "NameError",
          "evalue": "ignored",
          "traceback": [
            "\u001b[0;31m---------------------------------------------------------------------------\u001b[0m",
            "\u001b[0;31mNameError\u001b[0m                                 Traceback (most recent call last)",
            "\u001b[0;32m<ipython-input-5-4037ab6cdbf4>\u001b[0m in \u001b[0;36m<module>\u001b[0;34m()\u001b[0m\n\u001b[1;32m      9\u001b[0m \u001b[0;34m\u001b[0m\u001b[0m\n\u001b[1;32m     10\u001b[0m my_map.add_ee_layer(image,\n\u001b[0;32m---> 11\u001b[0;31m              \u001b[0;34m{\u001b[0m\u001b[0mmin\u001b[0m\u001b[0;34m:\u001b[0m \u001b[0;36m0\u001b[0m\u001b[0;34m,\u001b[0m \u001b[0mmax\u001b[0m\u001b[0;34m:\u001b[0m \u001b[0;36m6\u001b[0m\u001b[0;34m,\u001b[0m \u001b[0mpalette\u001b[0m\u001b[0;34m:\u001b[0m \u001b[0mpalette\u001b[0m\u001b[0;34m}\u001b[0m\u001b[0;34m,\u001b[0m\u001b[0;34m\u001b[0m\u001b[0;34m\u001b[0m\u001b[0m\n\u001b[0m\u001b[1;32m     12\u001b[0m              'classification');\n",
            "\u001b[0;31mNameError\u001b[0m: name 'palette' is not defined"
          ]
        }
      ]
    },
    {
      "cell_type": "code",
      "metadata": {
        "id": "wb5ga3ZxSA2r",
        "colab_type": "code",
        "colab": {
          "base_uri": "https://localhost:8080/",
          "height": 528
        },
        "outputId": "24ce144f-c003-4261-fb0a-161229573dd1"
      },
      "source": [
        "# create a palette/legend so we can easily see the labels on the map\n",
        "palette = [\n",
        "  'FF0000', # urban // red\n",
        "  '00FF00', # treerow // green\n",
        "  '0000FF', # forest //blue\n",
        "  'FFFF00', # single tree //yellow\n",
        "  'FF00FF', # agriculture //magenta\n",
        "  '00FFFF', # grassland // cyan\n",
        "  'FFFFFF', # water //white\n",
        "];\n",
        "\n",
        "model_input = imageCollection.toBands()\n",
        "\n",
        "#Change names of bands to be more understandable\n",
        "model_input = model_input.select(\n",
        "   ['T17SLD_20190922T203454_AOT_10m_b1',\n",
        "    'T17SLD_20190922T203454_B01_60m_b1',\n",
        "    'T17SLD_20190922T203454_B02_10m_b1',\n",
        "    'T17SLD_20190922T203454_B03_10m_b1',\n",
        "    'T17SLD_20190922T203454_B04_10m_b1',\n",
        "    'T17SLD_20190922T203454_B05_20m_b1',\n",
        "    'T17SLD_20190922T203454_B06_20m_b1',\n",
        "    'T17SLD_20190922T203454_B07_20m_b1',\n",
        "    'T17SLD_20190922T203454_B08_10m_b1',\n",
        "    'T17SLD_20190922T203454_B09_60m_b1',\n",
        "    'T17SLD_20190922T203454_B11_20m_b1',\n",
        "    'T17SLD_20190922T203454_B12_20m_b1',\n",
        "    'T17SLD_20190922T203454_B8A_20m_b1',\n",
        "    'T17SLD_20190922T203454_SCL_20m_b1',\n",
        "    'T17SLD_20190922T203454_WVP_10m_b1'],\n",
        "    ['AOT','B01','B02','B03','B04','B05','B06','B07','B08','B09','B11','B12','B8A','SCL','WVP'] \n",
        ");\n",
        "\n",
        "#Combine the unlabelled images with the labels from the labelled image\n",
        "model_input = model_input.addBands(image.select([\"b1\"],[\"label\"]))\n",
        "\n",
        "my_map = folium.Map(\n",
        "    location=[39.0681, -83.0143]\n",
        ")\n",
        "\n",
        "my_map.add_ee_layer(image,\n",
        "             {'min': 0, 'max': 6, 'palette': palette},\n",
        "             'classification')\n",
        "\n",
        "my_map.add_child(folium.LayerControl())"
      ],
      "execution_count": 10,
      "outputs": [
        {
          "output_type": "execute_result",
          "data": {
            "text/html": [
              "<div style=\"width:100%;\"><div style=\"position:relative;width:100%;height:0;padding-bottom:60%;\"><iframe src=\"data:text/html;charset=utf-8;base64,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\" style=\"position:absolute;width:100%;height:100%;left:0;top:0;border:none !important;\" allowfullscreen webkitallowfullscreen mozallowfullscreen></iframe></div></div>"
            ],
            "text/plain": [
              "<folium.folium.Map at 0x7ff1b3e6d710>"
            ]
          },
          "metadata": {
            "tags": []
          },
          "execution_count": 10
        }
      ]
    },
    {
      "cell_type": "code",
      "metadata": {
        "id": "VqRAn9B1SBKF",
        "colab_type": "code",
        "colab": {}
      },
      "source": [
        "#//---------------------Supervised Classification--------------------------//\n",
        "\n",
        "# Use these bands for prediction.\n",
        "# All bands used to have most data possible, doing a combination of bands could help to increase accuracy in the future \n",
        "bands =  ['AOT','B01','B02','B03','B04','B05','B06','B07','B08','B09','B11','B12','B8A','SCL','WVP','label'] ;\n",
        "\n",
        "#//Set scale and numPoint parameters so we can quickly change them for both the training and validation model\n",
        "scale = 10; #// highest resolution of the s2 bands is 10m, so scale=10 preserves all data for all bands\n",
        "numPoints = 100000\n",
        "\n",
        "#Sample the input imagery using a stratified sample\n",
        "training = model_input.select(bands).stratifiedSample(\n",
        "    classBand='label',\n",
        "    scale=scale,\n",
        "    numPoints=numPoints,\n",
        "    seed=0,\n",
        "    region=model_input.geometry());\n",
        "\n",
        "# Train classifier\n",
        "classifier = ee.Classifier.cart().train(\n",
        "    features=training,\n",
        "    classProperty='label',\n",
        "    inputProperties=bands);\n",
        "\n",
        "# .pkl model results\n",
        "# pickle.dump(classifier, open('models/s2-classifier.pkl','wb'))"
      ],
      "execution_count": 0,
      "outputs": []
    },
    {
      "cell_type": "code",
      "metadata": {
        "id": "jPY4PFzcWCdV",
        "colab_type": "code",
        "outputId": "3419324d-73e3-46b1-b86b-be5825e25aaa",
        "colab": {
          "base_uri": "https://localhost:8080/",
          "height": 72
        }
      },
      "source": [
        "#Classify the image with the same bands used for training.\n",
        "classified = model_input.select(bands).classify(classifier);\n",
        "\n",
        "# Get a confusion matrix representing resubstitution accuracy.\n",
        "trainAccuracy = classifier.confusionMatrix()\n",
        "\n",
        "print('Resubstitution error matrix: '+ str(trainAccuracy.getInfo()))\n",
        "print('Training Accuracy: ' + str(trainAccuracy.accuracy().getInfo()))"
      ],
      "execution_count": 12,
      "outputs": [
        {
          "output_type": "stream",
          "text": [
            "Resubstitution error matrix: [[18616, 8, 24, 0, 188, 16, 236], [1, 4020, 2029, 0, 997, 134, 7], [21, 561, 98183, 0, 935, 294, 6], [11, 34, 15, 7, 82, 17, 0], [30, 65, 87, 0, 93250, 394, 53], [2, 46, 435, 0, 3777, 3302, 4], [316, 5, 5, 0, 52, 10, 45099]]\n",
            "Training Accuracy: 0.9601388573895103\n"
          ],
          "name": "stdout"
        }
      ]
    },
    {
      "cell_type": "code",
      "metadata": {
        "id": "bc0A8zdT8nVH",
        "colab_type": "code",
        "outputId": "e35468bd-9805-4b50-9670-63f9b4773d51",
        "colab": {
          "base_uri": "https://localhost:8080/",
          "height": 72
        }
      },
      "source": [
        "# Sample the input with a different seed so we can compare the classifier and validate the model.\n",
        "validation = model_input.select(bands).stratifiedSample(\n",
        "    classBand='label',\n",
        "    scale=scale,\n",
        "    numPoints=numPoints,\n",
        "    seed=1,\n",
        "    region=model_input.geometry())\n",
        "\n",
        "#Classify the validation data.\n",
        "validated = validation.classify(classifier)\n",
        "\n",
        "#// Get a confusion matrix representing expected accuracy.\n",
        "testAccuracy = validated.errorMatrix('label', 'classification')\n",
        "\n",
        "print('Validation error matrix: ', testAccuracy.getInfo())\n",
        "print('Validation overall accuracy: ', testAccuracy.accuracy().getInfo())"
      ],
      "execution_count": 13,
      "outputs": [
        {
          "output_type": "stream",
          "text": [
            "Validation error matrix:  [[18616, 8, 24, 0, 188, 16, 236], [1, 4020, 2029, 0, 997, 134, 7], [16, 588, 98115, 0, 981, 291, 9], [11, 34, 15, 7, 82, 17, 0], [30, 65, 87, 0, 93250, 394, 53], [2, 46, 435, 0, 3777, 3302, 4], [316, 5, 5, 0, 52, 10, 45099]]\n",
            "Validation overall accuracy:  0.9598901139098817\n"
          ],
          "name": "stdout"
        }
      ]
    },
    {
      "cell_type": "code",
      "metadata": {
        "id": "h-beg-XMKO8J",
        "colab_type": "code",
        "colab": {
          "base_uri": "https://localhost:8080/",
          "height": 584
        },
        "outputId": "9183aef8-b02f-4047-e93f-ebeac0a5fa98"
      },
      "source": [
        "my_map = folium.Map(\n",
        "    location=[39.0681, -83.0143]\n",
        ")\n",
        "\n",
        "my_map.add_ee_layer(classified,\n",
        "                    {'min': 0, 'max': 6, 'palette': palette},\n",
        "                    'predictions')\n",
        "\n",
        "my_map.add_children(folium.LayerControl())"
      ],
      "execution_count": 17,
      "outputs": [
        {
          "output_type": "stream",
          "text": [
            "/usr/local/lib/python3.6/dist-packages/ipykernel_launcher.py:9: FutureWarning: Method `add_children` is deprecated. Please use `add_child` instead.\n",
            "  if __name__ == '__main__':\n"
          ],
          "name": "stderr"
        },
        {
          "output_type": "execute_result",
          "data": {
            "text/html": [
              "<div style=\"width:100%;\"><div style=\"position:relative;width:100%;height:0;padding-bottom:60%;\"><iframe src=\"data:text/html;charset=utf-8;base64,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\" style=\"position:absolute;width:100%;height:100%;left:0;top:0;border:none !important;\" allowfullscreen webkitallowfullscreen mozallowfullscreen></iframe></div></div>"
            ],
            "text/plain": [
              "<folium.folium.Map at 0x7ff1b3bea710>"
            ]
          },
          "metadata": {
            "tags": []
          },
          "execution_count": 17
        }
      ]
    },
    {
      "cell_type": "code",
      "metadata": {
        "id": "3cyXv7SrKVVw",
        "colab_type": "code",
        "colab": {}
      },
      "source": [
        ""
      ],
      "execution_count": 0,
      "outputs": []
    }
  ]
}